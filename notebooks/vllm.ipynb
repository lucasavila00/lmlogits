{
 "cells": [
  {
   "cell_type": "code",
   "execution_count": 1,
   "metadata": {},
   "outputs": [],
   "source": [
    "from vllm import LLM, SamplingParams\n",
    "import torch\n",
    "import numpy as np"
   ]
  },
  {
   "cell_type": "code",
   "execution_count": 2,
   "metadata": {},
   "outputs": [],
   "source": [
    "from lmlogits import TokTrie, RegexRecognizer"
   ]
  },
  {
   "cell_type": "code",
   "execution_count": 3,
   "metadata": {},
   "outputs": [
    {
     "name": "stdout",
     "output_type": "stream",
     "text": [
      "WARNING 04-20 02:04:12 config.py:164] awq quantization is not fully optimized yet. The speed can be slower than non-quantized models.\n",
      "INFO 04-20 02:04:12 llm_engine.py:98] Initializing an LLM engine (v0.4.1) with config: model='TheBloke/Mistral-7B-Instruct-v0.2-AWQ', speculative_config=None, tokenizer='TheBloke/Mistral-7B-Instruct-v0.2-AWQ', tokenizer_mode=auto, revision=None, tokenizer_revision=None, trust_remote_code=False, dtype=torch.float16, max_seq_len=4096, download_dir=None, load_format=auto, tensor_parallel_size=1, disable_custom_all_reduce=False, quantization=awq, enforce_eager=False, kv_cache_dtype=auto, quantization_param_path=None, device_config=cuda, decoding_config=DecodingConfig(guided_decoding_backend='outlines'), seed=0)\n",
      "INFO 04-20 02:04:13 utils.py:580] Found nccl from library /home/lucas/.config/vllm/nccl/cu12/libnccl.so.2.18.1\n",
      "INFO 04-20 02:04:14 selector.py:65] Cannot use FlashAttention backend for Volta and Turing GPUs.\n",
      "INFO 04-20 02:04:14 selector.py:33] Using XFormers backend.\n",
      "INFO 04-20 02:04:15 weight_utils.py:186] Using model weights format ['*.safetensors']\n",
      "INFO 04-20 02:04:16 model_runner.py:173] Loading model weights took 3.8814 GB\n",
      "INFO 04-20 02:04:18 gpu_executor.py:118] # GPU blocks: 387, # CPU blocks: 2048\n",
      "INFO 04-20 02:04:21 model_runner.py:976] Capturing the model for CUDA graphs. This may lead to unexpected consequences if the model is not static. To run the model in eager mode, set 'enforce_eager=True' or use '--enforce-eager' in the CLI.\n",
      "INFO 04-20 02:04:21 model_runner.py:980] CUDA graphs can take additional 1~3 GiB memory per GPU. If you are running out of memory, consider decreasing `gpu_memory_utilization` or enforcing eager mode. You can also reduce the `max_num_seqs` as needed to decrease memory usage.\n",
      "INFO 04-20 02:04:30 model_runner.py:1057] Graph capturing finished in 9 secs.\n"
     ]
    }
   ],
   "source": [
    "llm = LLM(model=\"TheBloke/Mistral-7B-Instruct-v0.2-AWQ\", quantization=\"awq\", max_model_len=4096, gpu_memory_utilization=0.8)"
   ]
  },
  {
   "cell_type": "code",
   "execution_count": 4,
   "metadata": {},
   "outputs": [],
   "source": [
    "trie = TokTrie('/home/lucas/.cache/huggingface/hub/models--TheBloke--Mistral-7B-Instruct-v0.2-AWQ/snapshots/f970a2bb89d5c2f9d217dc337f39e24625d6462a/tokenizer.json')"
   ]
  },
  {
   "cell_type": "code",
   "execution_count": 5,
   "metadata": {},
   "outputs": [],
   "source": [
    "BULLET_LIST_REGEX = \"(- [^\\n]*\\n)+(- [^\\n]*)(\\n\\n)?\""
   ]
  },
  {
   "cell_type": "code",
   "execution_count": 7,
   "metadata": {},
   "outputs": [],
   "source": [
    "class BaseLogitsProcessor:\n",
    "\n",
    "    def __init__(self, rx_string: str):\n",
    "        self.rx = RegexRecognizer(rx_string)\n",
    "\n",
    "    def __call__(self, input_ids,\n",
    "                 scores):\n",
    "\n",
    "        if len(input_ids) != 0:\n",
    "            last_token = input_ids[-1]\n",
    "            self.rx.append_token(trie, last_token)\n",
    "        \n",
    "        allowed_tokens = self.rx.compute_bias(trie)\n",
    "        scores.add_(torch.FloatTensor(allowed_tokens).to(scores.device))\n",
    "        return scores"
   ]
  },
  {
   "cell_type": "code",
   "execution_count": 13,
   "metadata": {},
   "outputs": [
    {
     "name": "stderr",
     "output_type": "stream",
     "text": [
      "Processed prompts: 100%|██████████| 1/1 [00:02<00:00,  2.82s/it]"
     ]
    },
    {
     "name": "stdout",
     "output_type": "stream",
     "text": [
      "- Why don't scientists trust atoms? Because they make up everything.\n",
      "- Why did the chicken go to the seance? To talk to the other side.\n",
      "- What do you call a fake noodle? An impasta.\n",
      "- Why did the scarecrow win an award? Because he was outstanding in his field.\n",
      "- What do you call a bear with no teeth? A gummy bear.\n",
      "- Why did the bicycle fall over? Because it was two-tired.\n",
      "- Why did the tomato turn red? Because it saw the salad dressing.\n",
      "- Why did the\n"
     ]
    },
    {
     "name": "stderr",
     "output_type": "stream",
     "text": [
      "\n"
     ]
    }
   ],
   "source": [
    "prompts = [\n",
    "    \"The most funny jokes are:\\n\\n\"\n",
    "    # \"Hello, my name is\",\n",
    "    # \"The president of the United States is\",\n",
    "    # \"The capital of France is\",\n",
    "    # \"The future of AI is\",\n",
    "]\n",
    "\n",
    "sampling_params = SamplingParams(temperature=0.8, top_p=0.95, logits_processors=[BaseLogitsProcessor(BULLET_LIST_REGEX)], max_tokens=128)\n",
    "outputs = llm.generate(prompts, sampling_params)\n",
    "\n",
    "# Print the outputs.\n",
    "for output in outputs:\n",
    "    prompt = output.prompt\n",
    "    generated_text = output.outputs[0].text\n",
    "    print(generated_text)\n",
    "    # print(f\"Prompt: {prompt!r}, Generated text: {generated_text!r}\")"
   ]
  },
  {
   "cell_type": "code",
   "execution_count": null,
   "metadata": {},
   "outputs": [],
   "source": []
  },
  {
   "cell_type": "code",
   "execution_count": null,
   "metadata": {},
   "outputs": [],
   "source": []
  },
  {
   "cell_type": "code",
   "execution_count": null,
   "metadata": {},
   "outputs": [],
   "source": []
  },
  {
   "cell_type": "code",
   "execution_count": null,
   "metadata": {},
   "outputs": [],
   "source": []
  },
  {
   "cell_type": "code",
   "execution_count": null,
   "metadata": {},
   "outputs": [],
   "source": []
  }
 ],
 "metadata": {
  "kernelspec": {
   "display_name": "Python 3",
   "language": "python",
   "name": "python3"
  },
  "language_info": {
   "codemirror_mode": {
    "name": "ipython",
    "version": 3
   },
   "file_extension": ".py",
   "mimetype": "text/x-python",
   "name": "python",
   "nbconvert_exporter": "python",
   "pygments_lexer": "ipython3",
   "version": "3.10.12"
  }
 },
 "nbformat": 4,
 "nbformat_minor": 2
}
